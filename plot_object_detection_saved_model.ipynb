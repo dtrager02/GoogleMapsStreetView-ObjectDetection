{
  "cells": [
    {
      "cell_type": "code",
      "execution_count": null,
      "metadata": {
        "collapsed": false
      },
      "outputs": [],
      "source": [
        "%matplotlib inline"
      ]
    },
    {
      "cell_type": "markdown",
      "metadata": {},
      "source": [
        "\nObject Detection From TF2 Saved Model\n=====================================\n"
      ]
    },
    {
      "cell_type": "markdown",
      "metadata": {},
      "source": [
        "This demo will take you through the steps of running an \"out-of-the-box\" TensorFlow 2 compatible\ndetection model on a collection of images. More specifically, in this example we will be using\nthe `Saved Model Format <https://www.tensorflow.org/guide/saved_model>`__ to load the model.\n\n"
      ]
    },
    {
      "cell_type": "markdown",
      "metadata": {},
      "source": [
        "Download the test images\n~~~~~~~~~~~~~~~~~~~~~~~~\nFirst we will download the images that we will use throughout this tutorial. The code snippet\nshown bellow will download the test images from the `TensorFlow Model Garden <https://github.com/tensorflow/models/tree/master/research/object_detection/test_images>`_\nand save them inside the ``data/images`` folder.\n\n"
      ]
    },
    {
      "cell_type": "code",
      "execution_count": null,
      "metadata": {
        "collapsed": false
      },
      "outputs": [],
      "source": [
        "import os\nos.environ['TF_CPP_MIN_LOG_LEVEL'] = '2'    # Suppress TensorFlow logging (1)\nimport pathlib\nimport tensorflow as tf\n\ntf.get_logger().setLevel('ERROR')           # Suppress TensorFlow logging (2)\n\n# Enable GPU dynamic memory allocation\ngpus = tf.config.experimental.list_physical_devices('GPU')\nfor gpu in gpus:\n    tf.config.experimental.set_memory_growth(gpu, True)\n\ndef download_images():\n    base_url = 'https://raw.githubusercontent.com/tensorflow/models/master/research/object_detection/test_images/'\n    filenames = ['image1.jpg', 'image2.jpg']\n    image_paths = []\n    for filename in filenames:\n        image_path = tf.keras.utils.get_file(fname=filename,\n                                            origin=base_url + filename,\n                                            untar=False)\n        image_path = pathlib.Path(image_path)\n        image_paths.append(str(image_path))\n    return image_paths\n\nIMAGE_PATHS = download_images()"
      ]
    },
    {
      "cell_type": "markdown",
      "metadata": {},
      "source": [
        "Download the model\n~~~~~~~~~~~~~~~~~~\nThe code snippet shown below is used to download the pre-trained object detection model we shall\nuse to perform inference. The particular detection algorithm we will use is the\n`CenterNet HourGlass104 1024x1024`. More models can be found in the `TensorFlow 2 Detection Model Zoo <https://github.com/tensorflow/models/blob/master/research/object_detection/g3doc/tf2_detection_zoo.md>`_.\nTo use a different model you will need the URL name of the specific model. This can be done as\nfollows:\n\n1. Right click on the `Model name` of the model you would like to use;\n2. Click on `Copy link address` to copy the download link of the model;\n3. Paste the link in a text editor of your choice. You should observe a link similar to ``download.tensorflow.org/models/object_detection/tf2/YYYYYYYY/XXXXXXXXX.tar.gz``;\n4. Copy the ``XXXXXXXXX`` part of the link and use it to replace the value of the ``MODEL_NAME`` variable in the code shown below;\n5. Copy the ``YYYYYYYY`` part of the link and use it to replace the value of the ``MODEL_DATE`` variable in the code shown below.\n\nFor example, the download link for the model used below is: ``download.tensorflow.org/models/object_detection/tf2/20200711/centernet_hg104_1024x1024_coco17_tpu-32.tar.gz``\n\n"
      ]
    },
    {
      "cell_type": "code",
      "execution_count": null,
      "metadata": {
        "collapsed": false
      },
      "outputs": [],
      "source": [
        "# Download and extract model\ndef download_model(model_name, model_date):\n    base_url = 'http://download.tensorflow.org/models/object_detection/tf2/'\n    model_file = model_name + '.tar.gz'\n    model_dir = tf.keras.utils.get_file(fname=model_name,\n                                        origin=base_url + model_date + '/' + model_file,\n                                        untar=True)\n    return str(model_dir)\n\nMODEL_DATE = '20200711'\nMODEL_NAME = 'centernet_hg104_1024x1024_coco17_tpu-32'\nPATH_TO_MODEL_DIR = download_model(MODEL_NAME, MODEL_DATE)"
      ]
    },
    {
      "cell_type": "markdown",
      "metadata": {},
      "source": [
        "Download the labels\n~~~~~~~~~~~~~~~~~~~\nThe coode snippet shown below is used to download the labels file (.pbtxt) which contains a list\nof strings used to add the correct label to each detection (e.g. person). Since the pre-trained\nmodel we will use has been trained on the COCO dataset, we will need to download the labels file\ncorresponding to this dataset, named ``mscoco_label_map.pbtxt``. A full list of the labels files\nincluded in the TensorFlow Models Garden can be found `here <https://github.com/tensorflow/models/tree/master/research/object_detection/data>`__.\n\n"
      ]
    },
    {
      "cell_type": "code",
      "execution_count": null,
      "metadata": {
        "collapsed": false
      },
      "outputs": [],
      "source": [
        "# Download labels file\ndef download_labels(filename):\n    base_url = 'https://raw.githubusercontent.com/tensorflow/models/master/research/object_detection/data/'\n    label_dir = tf.keras.utils.get_file(fname=filename,\n                                        origin=base_url + filename,\n                                        untar=False)\n    label_dir = pathlib.Path(label_dir)\n    return str(label_dir)\n\nLABEL_FILENAME = 'mscoco_label_map.pbtxt'\nPATH_TO_LABELS = download_labels(LABEL_FILENAME)"
      ]
    },
    {
      "cell_type": "markdown",
      "metadata": {},
      "source": [
        "Load the model\n~~~~~~~~~~~~~~\nNext we load the downloaded model\n\n"
      ]
    },
    {
      "cell_type": "code",
      "execution_count": null,
      "metadata": {
        "collapsed": false
      },
      "outputs": [],
      "source": [
        "import time\nfrom object_detection.utils import label_map_util\nfrom object_detection.utils import visualization_utils as viz_utils\n\nPATH_TO_SAVED_MODEL = PATH_TO_MODEL_DIR + \"/saved_model\"\n\nprint('Loading model...', end='')\nstart_time = time.time()\n\n# Load saved model and build the detection function\ndetect_fn = tf.saved_model.load(PATH_TO_SAVED_MODEL)\n\nend_time = time.time()\nelapsed_time = end_time - start_time\nprint('Done! Took {} seconds'.format(elapsed_time))"
      ]
    },
    {
      "cell_type": "markdown",
      "metadata": {},
      "source": [
        "Load label map data (for plotting)\n~~~~~~~~~~~~~~~~~~~~~~~~~~~~~~~~~~~\nLabel maps correspond index numbers to category names, so that when our convolution network\npredicts `5`, we know that this corresponds to `airplane`.  Here we use internal utility\nfunctions, but anything that returns a dictionary mapping integers to appropriate string labels\nwould be fine.\n\n"
      ]
    },
    {
      "cell_type": "code",
      "execution_count": null,
      "metadata": {
        "collapsed": false
      },
      "outputs": [],
      "source": [
        "category_index = label_map_util.create_category_index_from_labelmap(PATH_TO_LABELS,\n                                                                    use_display_name=True)"
      ]
    },
    {
      "cell_type": "markdown",
      "metadata": {},
      "source": [
        "Putting everything together\n~~~~~~~~~~~~~~~~~~~~~~~~~~~\nThe code shown below loads an image, runs it through the detection model and visualizes the\ndetection results, including the keypoints.\n\nNote that this will take a long time (several minutes) the first time you run this code due to\ntf.function's trace-compilation --- on subsequent runs (e.g. on new images), things will be\nfaster.\n\nHere are some simple things to try out if you are curious:\n\n* Modify some of the input images and see if detection still works. Some simple things to try out here (just uncomment the relevant portions of code) include flipping the image horizontally, or converting to grayscale (note that we still expect the input image to have 3 channels).\n* Print out `detections['detection_boxes']` and try to match the box locations to the boxes in the image.  Notice that coordinates are given in normalized form (i.e., in the interval [0, 1]).\n* Set ``min_score_thresh`` to other values (between 0 and 1) to allow more detections in or to filter out more detections.\n\n"
      ]
    },
    {
      "cell_type": "code",
      "execution_count": null,
      "metadata": {
        "collapsed": false
      },
      "outputs": [],
      "source": [
        "import numpy as np\nfrom PIL import Image\nimport matplotlib.pyplot as plt\nimport warnings\nwarnings.filterwarnings('ignore')   # Suppress Matplotlib warnings\n\ndef load_image_into_numpy_array(path):\n    \"\"\"Load an image from file into a numpy array.\n\n    Puts image into numpy array to feed into tensorflow graph.\n    Note that by convention we put it into a numpy array with shape\n    (height, width, channels), where channels=3 for RGB.\n\n    Args:\n      path: the file path to the image\n\n    Returns:\n      uint8 numpy array with shape (img_height, img_width, 3)\n    \"\"\"\n    return np.array(Image.open(path))\n\n\nfor image_path in IMAGE_PATHS:\n\n    print('Running inference for {}... '.format(image_path), end='')\n\n    image_np = load_image_into_numpy_array(image_path)\n\n    # Things to try:\n    # Flip horizontally\n    # image_np = np.fliplr(image_np).copy()\n\n    # Convert image to grayscale\n    # image_np = np.tile(\n    #     np.mean(image_np, 2, keepdims=True), (1, 1, 3)).astype(np.uint8)\n\n    # The input needs to be a tensor, convert it using `tf.convert_to_tensor`.\n    input_tensor = tf.convert_to_tensor(image_np)\n    # The model expects a batch of images, so add an axis with `tf.newaxis`.\n    input_tensor = input_tensor[tf.newaxis, ...]\n\n    # input_tensor = np.expand_dims(image_np, 0)\n    detections = detect_fn(input_tensor)\n\n    # All outputs are batches tensors.\n    # Convert to numpy arrays, and take index [0] to remove the batch dimension.\n    # We're only interested in the first num_detections.\n    num_detections = int(detections.pop('num_detections'))\n    detections = {key: value[0, :num_detections].numpy()\n                   for key, value in detections.items()}\n    detections['num_detections'] = num_detections\n\n    # detection_classes should be ints.\n    detections['detection_classes'] = detections['detection_classes'].astype(np.int64)\n\n    image_np_with_detections = image_np.copy()\n\n    viz_utils.visualize_boxes_and_labels_on_image_array(\n          image_np_with_detections,\n          detections['detection_boxes'],\n          detections['detection_classes'],\n          detections['detection_scores'],\n          category_index,\n          use_normalized_coordinates=True,\n          max_boxes_to_draw=200,\n          min_score_thresh=.30,\n          agnostic_mode=False)\n\n    plt.figure()\n    plt.imshow(image_np_with_detections)\n    print('Done')\nplt.show()\n\n# sphinx_gallery_thumbnail_number = 2"
      ]
    }
  ],
  "metadata": {
    "kernelspec": {
      "display_name": "Python 3",
      "language": "python",
      "name": "python3"
    },
    "language_info": {
      "codemirror_mode": {
        "name": "ipython",
        "version": 3
      },
      "file_extension": ".py",
      "mimetype": "text/x-python",
      "name": "python",
      "nbconvert_exporter": "python",
      "pygments_lexer": "ipython3",
      "version": "3.7.8"
    }
  },
  "nbformat": 4,
  "nbformat_minor": 0
}